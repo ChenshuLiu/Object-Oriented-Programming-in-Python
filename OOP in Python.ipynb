{
 "cells": [
  {
   "cell_type": "markdown",
   "id": "bb1c6f02",
   "metadata": {},
   "source": [
    "# Object Oriented Programming in Python\n",
    "#### by: Chenshu Liu"
   ]
  },
  {
   "cell_type": "markdown",
   "id": "72294a00",
   "metadata": {},
   "source": [
    "Credits to:\n",
    "\n",
    "* https://youtu.be/Ej_02ICOIgs"
   ]
  },
  {
   "cell_type": "code",
   "execution_count": 14,
   "id": "859ce2c2",
   "metadata": {},
   "outputs": [
    {
     "ename": "IndentationError",
     "evalue": "expected an indented block (<ipython-input-14-f0d371729b5c>, line 43)",
     "output_type": "error",
     "traceback": [
      "\u001b[0;36m  File \u001b[0;32m\"<ipython-input-14-f0d371729b5c>\"\u001b[0;36m, line \u001b[0;32m43\u001b[0m\n\u001b[0;31m    def __repr__(self):\u001b[0m\n\u001b[0m    ^\u001b[0m\n\u001b[0;31mIndentationError\u001b[0m\u001b[0;31m:\u001b[0m expected an indented block\n"
     ]
    }
   ],
   "source": [
    "import  csv\n",
    "\n",
    "class Item:\n",
    "    # class attribute\n",
    "    # can only be accessed when class is called or when the instance is called \n",
    "    pay_rate = 0.8 # pay rate after 20% discount\n",
    "    \n",
    "    # appending multiple instances\n",
    "    all = []\n",
    "    \n",
    "    # constructor\n",
    "    # will be called whenever an instance is created\n",
    "    # can use arg_name:type to specify declaring data type\n",
    "    # can specify default values for args\n",
    "    def __init__(self, name:str, price:float, quantity=0):\n",
    "        # validation of argument using assert statement\n",
    "        assert price >= 0, f\"Price {price} is not greater than 0!\"\n",
    "        assert quantity >= 0, f\"Quantity {quantity} is not greater than 0!\"\n",
    "        \n",
    "        # print(f\"An instance created: {name}\") will be run by calling Item\n",
    "        self.name = name\n",
    "        self.price = price\n",
    "        self.quantity = quantity\n",
    "        \n",
    "        # actions to execute for appending multiple instances\n",
    "        Item.all.append(self)\n",
    "\n",
    "    # methods definitions\n",
    "    def calculate_total_price(self):\n",
    "        # each method will take the object itself as the first arg\n",
    "        return self.price * self.quantity\n",
    "    \n",
    "    def apply_discount(self):\n",
    "        self.price = self.price * self.pay_rate\n",
    "    \n",
    "    # class method\n",
    "    # can only be accessed from the class level, not the instance level\n",
    "    # decorator (declaring the attribute of the following line)\n",
    "    @classmethod\n",
    "    def instantiate_from_csv(cls):\n",
    "        # the class itself is called, instead of the instance self\n",
    "        with open('')\n",
    "        \n",
    "    def __repr__(self):\n",
    "        # formatting the way representing when returning\n",
    "        return f\"Item('{self.name}', {self.price}, {self.quantity})\""
   ]
  },
  {
   "cell_type": "code",
   "execution_count": 13,
   "id": "59cf11ba",
   "metadata": {},
   "outputs": [
    {
     "name": "stdout",
     "output_type": "stream",
     "text": [
      "500\n",
      "3000\n",
      "[Item('phone', 100, 5), Item('laptop', 1000, 3)]\n",
      "[Item('phone', 100, 5), Item('laptop', 1000, 3)]\n",
      "[Item('phone', 100, 5), Item('laptop', 1000, 3)]\n"
     ]
    }
   ],
   "source": [
    "# creating instances with class Item\n",
    "# this instances are related to each other by item class\n",
    "item1 = Item(\"phone\", 100, 5)\n",
    "print(item1.calculate_total_price())\n",
    "\n",
    "item2 = Item(\"laptop\", 1000, 3)\n",
    "print(item2.calculate_total_price())\n",
    "\n",
    "# checking all instances of the class\n",
    "print(Item.all)\n",
    "\n",
    "for instance in Item.all:\n",
    "    print(instance.all)"
   ]
  },
  {
   "cell_type": "code",
   "execution_count": 6,
   "id": "5c5cf7d4",
   "metadata": {},
   "outputs": [
    {
     "name": "stdout",
     "output_type": "stream",
     "text": [
      "0.8\n",
      "0.8\n"
     ]
    }
   ],
   "source": [
    "print(Item.pay_rate)\n",
    "print(item1.pay_rate)"
   ]
  },
  {
   "cell_type": "code",
   "execution_count": null,
   "id": "c1d317cc",
   "metadata": {},
   "outputs": [],
   "source": []
  }
 ],
 "metadata": {
  "kernelspec": {
   "display_name": "Python 3",
   "language": "python",
   "name": "python3"
  },
  "language_info": {
   "codemirror_mode": {
    "name": "ipython",
    "version": 3
   },
   "file_extension": ".py",
   "mimetype": "text/x-python",
   "name": "python",
   "nbconvert_exporter": "python",
   "pygments_lexer": "ipython3",
   "version": "3.8.8"
  }
 },
 "nbformat": 4,
 "nbformat_minor": 5
}
