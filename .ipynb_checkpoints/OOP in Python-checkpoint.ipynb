{
 "cells": [
  {
   "cell_type": "markdown",
   "id": "bb1c6f02",
   "metadata": {},
   "source": [
    "# Object Oriented Programming in Python\n",
    "#### by: Chenshu Liu"
   ]
  },
  {
   "cell_type": "markdown",
   "id": "72294a00",
   "metadata": {},
   "source": [
    "Credits to:\n",
    "\n",
    "* https://youtu.be/Ej_02ICOIgs"
   ]
  },
  {
   "cell_type": "code",
   "execution_count": 14,
   "id": "859ce2c2",
   "metadata": {},
   "outputs": [
    {
     "ename": "IndentationError",
     "evalue": "expected an indented block (<ipython-input-14-f0d371729b5c>, line 43)",
     "output_type": "error",
     "traceback": [
      "\u001b[0;36m  File \u001b[0;32m\"<ipython-input-14-f0d371729b5c>\"\u001b[0;36m, line \u001b[0;32m43\u001b[0m\n\u001b[0;31m    def __repr__(self):\u001b[0m\n\u001b[0m    ^\u001b[0m\n\u001b[0;31mIndentationError\u001b[0m\u001b[0;31m:\u001b[0m expected an indented block\n"
     ]
    }
   ],
   "source": [
    "import  csv\n",
    "\n",
    "class Item:\n",
    "    # class attribute\n",
    "    # can only be accessed when class is called or when the instance is called \n",
    "    pay_rate = 0.8 # pay rate after 20% discount\n",
    "    \n",
    "    # appending multiple instances\n",
    "    all = []\n",
    "    \n",
    "    # constructor\n",
    "    # will be called whenever an instance is created\n",
    "    # can use arg_name:type to specify declaring data type\n",
    "    # can specify default values for args\n",
    "    def __init__(self, name:str, price:float, quantity=0):\n",
    "        # validation of argument using assert statement\n",
    "        assert price >= 0, f\"Price {price} is not greater than 0!\"\n",
    "        assert quantity >= 0, f\"Quantity {quantity} is not greater than 0!\"\n",
    "        \n",
    "        # print(f\"An instance created: {name}\") will be run by calling Item\n",
    "        self.name = name\n",
    "        self.price = price\n",
    "        self.quantity = quantity\n",
    "        \n",
    "        # actions to execute for appending multiple instances\n",
    "        Item.all.append(self)\n",
    "\n",
    "    # methods definitions\n",
    "    def calculate_total_price(self):\n",
    "        # each method will take the object itself as the first arg\n",
    "        return self.price * self.quantity\n",
    "    \n",
    "    def apply_discount(self):\n",
    "        self.price = self.price * self.pay_rate\n",
    "    \n",
    "    # class method\n",
    "    # can only be accessed from the class level, not the instance level\n",
    "    # decorator (declaring the attribute of the following line)\n",
    "    @classmethod\n",
    "    def instantiate_from_csv(cls):\n",
    "        # the class itself is called, instead of the instance self\n",
    "        with open('')\n",
    "        \n",
    "    def __repr__(self):\n",
    "        # formatting the way representing when returning\n",
    "        return f\"Item('{self.name}', {self.price}, {self.quantity})\""
   ]
  },
  {
   "cell_type": "code",
   "execution_count": 13,
   "id": "59cf11ba",
   "metadata": {},
   "outputs": [
    {
     "name": "stdout",
     "output_type": "stream",
     "text": [
      "500\n",
      "3000\n",
      "[Item('phone', 100, 5), Item('laptop', 1000, 3)]\n",
      "[Item('phone', 100, 5), Item('laptop', 1000, 3)]\n",
      "[Item('phone', 100, 5), Item('laptop', 1000, 3)]\n"
     ]
    }
   ],
   "source": [
    "# creating instances with class Item\n",
    "# this instances are related to each other by item class\n",
    "item1 = Item(\"phone\", 100, 5)\n",
    "print(item1.calculate_total_price())\n",
    "\n",
    "item2 = Item(\"laptop\", 1000, 3)\n",
    "print(item2.calculate_total_price())\n",
    "\n",
    "# checking all instances of the class\n",
    "print(Item.all)\n",
    "\n",
    "for instance in Item.all:\n",
    "    print(instance.all)"
   ]
  },
  {
   "cell_type": "markdown",
   "id": "1be491fa",
   "metadata": {},
   "source": [
    "## Intuition Behind Object Oriented Programming\n",
    "Imagine a real life problem, we want to keep track of the items in the store"
   ]
  },
  {
   "cell_type": "code",
   "execution_count": 1,
   "id": "dda567be",
   "metadata": {},
   "outputs": [
    {
     "name": "stdout",
     "output_type": "stream",
     "text": [
      "<class 'str'>\n",
      "<class 'int'>\n",
      "<class 'int'>\n",
      "<class 'int'>\n"
     ]
    }
   ],
   "source": [
    "item1 = \"Phone\"\n",
    "item1_price = 100\n",
    "item1_quantity = 5\n",
    "item1_price_total = item1_price * item1_quantity\n",
    "\n",
    "print(type(item1))\n",
    "print(type(item1_price))\n",
    "print(type(item1_quantity))\n",
    "print(type(item1_price_total))"
   ]
  },
  {
   "cell_type": "markdown",
   "id": "7e006f6d",
   "metadata": {},
   "source": [
    "Notice that when we check the type for the created objects, they have assigned classes like \"str\" for strings, and \"int\" for integers. If we can define classes on our own, we could deal with systematic information more easily."
   ]
  },
  {
   "cell_type": "markdown",
   "id": "a4fa229e",
   "metadata": {},
   "source": [
    "## Creating a Class"
   ]
  },
  {
   "cell_type": "code",
   "execution_count": 3,
   "id": "1fdbbb71",
   "metadata": {},
   "outputs": [],
   "source": [
    "class Item:\n",
    "    pass\n",
    "\n",
    "# create instances within the class\n",
    "item1 = Item()\n",
    "\n",
    "# assign attributes to the instance\n",
    "item1.name = \"Phone\"\n",
    "item1.price = 100\n",
    "item1.quantity = 5"
   ]
  },
  {
   "cell_type": "markdown",
   "id": "08dfac99",
   "metadata": {},
   "source": [
    "The difference between the instantiated objects above and the objects we directly assigned is that the instantiated objects with the class Item are linked, because they all belong to the same class. We can prove this by checking the type of the instantiated objects:"
   ]
  },
  {
   "cell_type": "code",
   "execution_count": 4,
   "id": "ddebbfb5",
   "metadata": {},
   "outputs": [
    {
     "name": "stdout",
     "output_type": "stream",
     "text": [
      "<class '__main__.Item'>\n",
      "<class 'str'>\n",
      "<class 'int'>\n",
      "<class 'int'>\n"
     ]
    }
   ],
   "source": [
    "print(type(item1))\n",
    "print(type(item1.name))\n",
    "print(type(item1.price))\n",
    "print(type(item1.quantity))"
   ]
  },
  {
   "cell_type": "markdown",
   "id": "8ca7842c",
   "metadata": {},
   "source": [
    "## Class Operations - Methods\n",
    "We already learned how to instantiate objects, then we can create operations that can be used specifically for the objects with the defined class, which we call **methods**\n",
    "\n",
    "Methods **must** always receive parameters, the first parameter that method receives is the object itselfv (_for example item1 and itme2_). Thus, we should always include an argument *self* in the method definition. The name *self* does not matter that much because it is just a **place holder**. Regardless of what the argument name is, it will always take in the instance object itself"
   ]
  },
  {
   "cell_type": "code",
   "execution_count": 9,
   "id": "c7dcca96",
   "metadata": {},
   "outputs": [
    {
     "name": "stdout",
     "output_type": "stream",
     "text": [
      "The total price of phone is 500\n",
      "The total price of laptop is 3000\n"
     ]
    }
   ],
   "source": [
    "class Item:\n",
    "    def calculate_total_price(self, x, y):\n",
    "        return x * y\n",
    "\n",
    "item1 = Item()\n",
    "item1.name = \"Phone\"\n",
    "item1.price = 100\n",
    "item1.quantity = 5\n",
    "print(f\"The total price of phone is {item1.calculate_total_price(item1.price, item1.quantity)}\")\n",
    "\n",
    "item2 = Item()\n",
    "item2.name = \"Laptop\"\n",
    "item2.price = 1000\n",
    "item2.quantity = 3\n",
    "print(f\"The total price of laptop is {item2.calculate_total_price(item2.price, item2.quantity)}\")"
   ]
  },
  {
   "cell_type": "markdown",
   "id": "aedaf19a",
   "metadata": {},
   "source": [
    "## \\_\\_init\\_\\_ Constructor\n",
    "The `__init__` method is one of the group of magic methods in python. The `__init__` method will be called **as soon as** the class instance is instantiated. The `__init__` method can help us **avoid hard coding** the attributes as we did in the last section"
   ]
  },
  {
   "cell_type": "code",
   "execution_count": 2,
   "id": "e637f2af",
   "metadata": {},
   "outputs": [
    {
     "name": "stdout",
     "output_type": "stream",
     "text": [
      "the name of item1 is Phone\n",
      "the name of item2 is Laptop\n",
      "the price of item1 is 100\n",
      "the price of item2 is 1000\n",
      "the quantity of item1 is 5\n",
      "the quantity of item2 is 3\n"
     ]
    }
   ],
   "source": [
    "class Item:\n",
    "    # arguments matching by location for instantiation\n",
    "    def __init__(self, name, price, quantity):\n",
    "        # assign the attributes during instantiation\n",
    "        self.name = name\n",
    "        self.price = price\n",
    "        self.quantity = quantity\n",
    "    def calculate_total_price(self, x, y):\n",
    "        return x*y\n",
    "    \n",
    "item1 = Item(\"Phone\", 100, 5)\n",
    "item2 = Item(\"Laptop\", 1000, 3)\n",
    "print(f\"the name of item1 is {item1.name}\")\n",
    "print(f\"the name of item2 is {item2.name}\")\n",
    "print(f\"the price of item1 is {item1.price}\")\n",
    "print(f\"the price of item2 is {item2.price}\")\n",
    "print(f\"the quantity of item1 is {item1.quantity}\")\n",
    "print(f\"the quantity of item2 is {item2.quantity}\")"
   ]
  },
  {
   "cell_type": "markdown",
   "id": "09c389ff",
   "metadata": {},
   "source": [
    "Within the `__init__` method, besides the arguments that we will define explicitly during operations, we also can provide default values to parameters that did not receive definition during the operation (_for example, if we didn't specify the quantity argument during instantiation above, then we should assume that the quantity is 0_)"
   ]
  },
  {
   "cell_type": "code",
   "execution_count": 6,
   "id": "f69ee2dc",
   "metadata": {},
   "outputs": [
    {
     "name": "stdout",
     "output_type": "stream",
     "text": [
      "the name of item1 is Phone\n",
      "the name of item2 is Laptop\n",
      "the price of item1 is 100\n",
      "the price of item2 is 1000\n",
      "the default quantity of item1 is 0\n",
      "the quantity of item2 is 3\n"
     ]
    }
   ],
   "source": [
    "class Item:\n",
    "    # the default value of quantity is 0\n",
    "    def __init__(self, name, price, quantity = 0):\n",
    "        self.name = name\n",
    "        self.price = price\n",
    "        self.quantity = quantity\n",
    "    def calculate_total_price(self, x, y):\n",
    "        return x*y\n",
    "\n",
    "# remove the definition of quantity for item1\n",
    "item1 = Item(\"Phone\", 100)\n",
    "item2 = Item(\"Laptop\", 1000, 3)\n",
    "print(f\"the name of item1 is {item1.name}\")\n",
    "print(f\"the name of item2 is {item2.name}\")\n",
    "print(f\"the price of item1 is {item1.price}\")\n",
    "print(f\"the price of item2 is {item2.price}\")\n",
    "# referring to the default quantity value 0\n",
    "print(f\"the default quantity of item1 is {item1.quantity}\")\n",
    "print(f\"the quantity of item2 is {item2.quantity}\")"
   ]
  },
  {
   "cell_type": "markdown",
   "id": "3a9ca740",
   "metadata": {},
   "source": [
    "Note that for the definition of the `calculate_total_price` method, the function is still taking in new arguments x and y, while we have already used the `__init__` method to assign _self_ with attributes. Thus, we can reformat the definition of the `calculate_total_price` method to reduce complexity:"
   ]
  },
  {
   "cell_type": "code",
   "execution_count": 9,
   "id": "b074eb30",
   "metadata": {},
   "outputs": [
    {
     "name": "stdout",
     "output_type": "stream",
     "text": [
      "the total price of item1 is 200\n"
     ]
    }
   ],
   "source": [
    "class Item:\n",
    "    def __init__(self, name, price, quantity = 0):\n",
    "        self.name = name\n",
    "        self.price = price\n",
    "        self.quantity = quantity\n",
    "    # self already contains different attributes\n",
    "    # delete the x and y arguments\n",
    "    def calculate_total_price(self):\n",
    "        # return x*y\n",
    "        return self.price * self.quantity\n",
    "\n",
    "item1 = Item(\"Phone\", 100, 2)\n",
    "print(f\"the total price of item1 is {item1.calculate_total_price()}\")"
   ]
  },
  {
   "cell_type": "markdown",
   "id": "c1657210",
   "metadata": {},
   "source": [
    "When we look at the definition of _self_, different arguments have different data types:\n",
    "* name is a character type\n",
    "* price can be a floating type\n",
    "* quantity is an integer type\n",
    "\n",
    "In order to enforce the definition of arguments to have the desired data types, we can specify the type of arguments during definition:"
   ]
  },
  {
   "cell_type": "code",
   "execution_count": 10,
   "id": "1931de48",
   "metadata": {},
   "outputs": [],
   "source": [
    "class Item:\n",
    "    # enforcing typing of arguments\n",
    "    def __init__(self, name: str, price: float, quantity = 0):\n",
    "        # because the name argument is specified to be str\n",
    "        # we can only define name as a string\n",
    "        self.name = name\n",
    "        self.price = price\n",
    "        self.quantity = quantity\n",
    "    def calculate_total_price(self, x, y):\n",
    "        return x*y"
   ]
  },
  {
   "cell_type": "markdown",
   "id": "7717c834",
   "metadata": {},
   "source": [
    "Also, we should be aware that the arguments: price and quantity can only be positive numbers. There's no way to enforce the arguments to be positive, but we can use the assert function to ensure that the values are positive. When the values assigned are inappropriate, an assertion error will be raised."
   ]
  },
  {
   "cell_type": "code",
   "execution_count": 12,
   "id": "d06ca4be",
   "metadata": {},
   "outputs": [
    {
     "ename": "AssertionError",
     "evalue": "Quantity -1 is not non-negative",
     "output_type": "error",
     "traceback": [
      "\u001b[0;31m---------------------------------------------------------------------------\u001b[0m",
      "\u001b[0;31mAssertionError\u001b[0m                            Traceback (most recent call last)",
      "\u001b[0;32m<ipython-input-12-eaa11a58c0fe>\u001b[0m in \u001b[0;36m<module>\u001b[0;34m\u001b[0m\n\u001b[1;32m     14\u001b[0m \u001b[0;34m\u001b[0m\u001b[0m\n\u001b[1;32m     15\u001b[0m \u001b[0;31m# assertion error will be raised when negative values are assigned\u001b[0m\u001b[0;34m\u001b[0m\u001b[0;34m\u001b[0m\u001b[0;34m\u001b[0m\u001b[0m\n\u001b[0;32m---> 16\u001b[0;31m \u001b[0mitem1\u001b[0m \u001b[0;34m=\u001b[0m \u001b[0mItem\u001b[0m\u001b[0;34m(\u001b[0m\u001b[0;34m\"Phone\"\u001b[0m\u001b[0;34m,\u001b[0m \u001b[0;36m100\u001b[0m\u001b[0;34m,\u001b[0m \u001b[0;34m-\u001b[0m\u001b[0;36m1\u001b[0m\u001b[0;34m)\u001b[0m\u001b[0;34m\u001b[0m\u001b[0;34m\u001b[0m\u001b[0m\n\u001b[0m",
      "\u001b[0;32m<ipython-input-12-eaa11a58c0fe>\u001b[0m in \u001b[0;36m__init__\u001b[0;34m(self, name, price, quantity)\u001b[0m\n\u001b[1;32m      4\u001b[0m         \u001b[0;31m# price and quantity should both be positive\u001b[0m\u001b[0;34m\u001b[0m\u001b[0;34m\u001b[0m\u001b[0;34m\u001b[0m\u001b[0m\n\u001b[1;32m      5\u001b[0m         \u001b[0;32massert\u001b[0m \u001b[0mprice\u001b[0m \u001b[0;34m>=\u001b[0m \u001b[0;36m0\u001b[0m\u001b[0;34m,\u001b[0m \u001b[0;34mf\"Price {price} is not non-negative\"\u001b[0m\u001b[0;34m\u001b[0m\u001b[0;34m\u001b[0m\u001b[0m\n\u001b[0;32m----> 6\u001b[0;31m         \u001b[0;32massert\u001b[0m \u001b[0mquantity\u001b[0m \u001b[0;34m>=\u001b[0m \u001b[0;36m0\u001b[0m\u001b[0;34m,\u001b[0m \u001b[0;34mf\"Quantity {quantity} is not non-negative\"\u001b[0m\u001b[0;34m\u001b[0m\u001b[0;34m\u001b[0m\u001b[0m\n\u001b[0m\u001b[1;32m      7\u001b[0m \u001b[0;34m\u001b[0m\u001b[0m\n\u001b[1;32m      8\u001b[0m         \u001b[0;31m# assign to self object\u001b[0m\u001b[0;34m\u001b[0m\u001b[0;34m\u001b[0m\u001b[0;34m\u001b[0m\u001b[0m\n",
      "\u001b[0;31mAssertionError\u001b[0m: Quantity -1 is not non-negative"
     ]
    }
   ],
   "source": [
    "class Item:\n",
    "    def __init__(self, name: str, price: float, quantity = 0):\n",
    "        # validate received argument\n",
    "        # price and quantity should both be positive\n",
    "        assert price >= 0, f\"Price {price} is not non-negative\"\n",
    "        assert quantity >= 0, f\"Quantity {quantity} is not non-negative\"\n",
    "        \n",
    "        # assign to self object\n",
    "        self.name = name\n",
    "        self.price = price\n",
    "        self.quantity = quantity\n",
    "    def calculate_total_price(self, x, y):\n",
    "        return x*y\n",
    "    \n",
    "# assertion error will be raised when negative values are assigned\n",
    "item1 = Item(\"Phone\", 100, -1)"
   ]
  },
  {
   "cell_type": "markdown",
   "id": "6e34b1de",
   "metadata": {},
   "source": [
    "## Class Attribute\n",
    "Class attribute is the attribute at the class  level that the class object has that does not need to be defined during instantiation, but can still be accessed for instantiated objects."
   ]
  },
  {
   "cell_type": "code",
   "execution_count": 19,
   "id": "c01a1df0",
   "metadata": {},
   "outputs": [
    {
     "name": "stdout",
     "output_type": "stream",
     "text": [
      "the class attribute pay_rate of class Item is: 0.8\n",
      "the class attribute at instance item1 level is: 0.8\n",
      "the class attribute at instance item2 level is: 0.8\n"
     ]
    }
   ],
   "source": [
    "class Item:\n",
    "    pay_rate = 0.8\n",
    "    def __init__(self, name: str, price: float, quantity = 0):\n",
    "        assert price >= 0, f\"Price {price} is not non-negative\"\n",
    "        assert quantity >= 0, f\"Quantity {quantity} is not non-negative\"\n",
    "\n",
    "        self.name = name\n",
    "        self.price = price\n",
    "        self.quantity = quantity\n",
    "    def calculate_total_price(self, x, y):\n",
    "        return x*y\n",
    "    \n",
    "item1 = Item(\"Phone\", 100, 1)\n",
    "item2 = Item(\"Laptop\", 1000, 3)\n",
    "print(f\"the class attribute pay_rate of class Item is: {Item.pay_rate}\")\n",
    "# class attributes are not defined at instance level\n",
    "# so, when calling class attribute at instance level, it will refer to the class level\n",
    "print(f\"the class attribute at instance item1 level is: {item1.pay_rate}\")\n",
    "print(f\"the class attribute at instance item2 level is: {item2.pay_rate}\")"
   ]
  },
  {
   "cell_type": "markdown",
   "id": "3408d10a",
   "metadata": {},
   "source": [
    "We can also check all the attributes that a class or instance has:"
   ]
  },
  {
   "cell_type": "code",
   "execution_count": 17,
   "id": "0843e37b",
   "metadata": {},
   "outputs": [
    {
     "name": "stdout",
     "output_type": "stream",
     "text": [
      "the Item class has the following attributes: {'__module__': '__main__', 'pay_rate': 0.8, '__init__': <function Item.__init__ at 0x7fc9a5f34a60>, 'calculate_total_price': <function Item.calculate_total_price at 0x7fc9a5f34ca0>, '__dict__': <attribute '__dict__' of 'Item' objects>, '__weakref__': <attribute '__weakref__' of 'Item' objects>, '__doc__': None}\n",
      "\n",
      "the instance item1 has the following attributes: {'name': 'Phone', 'price': 100, 'quantity': 1}\n"
     ]
    }
   ],
   "source": [
    "# check all the attributes of a class or instance\n",
    "print(f\"the Item class has the following attributes: {Item.__dict__}\")\n",
    "print()\n",
    "print(f\"the instance item1 has the following attributes: {item1.__dict__}\")"
   ]
  },
  {
   "cell_type": "code",
   "execution_count": 27,
   "id": "d59ef9d4",
   "metadata": {},
   "outputs": [
    {
     "name": "stdout",
     "output_type": "stream",
     "text": [
      "the price of item1 after 0.2 discount is 80.0\n",
      "the price of item2 after 0.3 discount is 800.0\n"
     ]
    }
   ],
   "source": [
    "class Item:\n",
    "    pay_rate = 0.8\n",
    "    def __init__(self, name: str, price: float, quantity = 0):\n",
    "        assert price >= 0, f\"Price {price} is not non-negative\"\n",
    "        assert quantity >= 0, f\"Quantity {quantity} is not non-negative\"\n",
    "        \n",
    "        self.name = name\n",
    "        self.price = price\n",
    "        self.quantity = quantity\n",
    "        \n",
    "    def calculate_total_price(self, x, y):\n",
    "        return x*y\n",
    "    \n",
    "    def apply_discount(self):\n",
    "        # need to access pay_rate at class level\n",
    "        self.price = self.price * Item.pay_rate\n",
    "\n",
    "item1 = Item(\"Phone\", 100, 1)\n",
    "item1.apply_discount()\n",
    "print(f\"the price of item1 after 0.2 discount is {item1.price}\")\n",
    "\n",
    "item2 = Item(\"Laptop\", 1000, 3)\n",
    "item2.pay_rate = 0.7\n",
    "item2.apply_discount()\n",
    "print(f\"the price of item2 after 0.3 discount is {item2.price}\")"
   ]
  },
  {
   "cell_type": "markdown",
   "id": "752c7ffe",
   "metadata": {},
   "source": [
    "This does not seem right! The expected price of item2 should be 700 after the 0.3 discount, rather than 800. This is because the pay_rate is still accessed at the class level. The instantiation of item2 with pay_rate = 0.7 is not reflected at the class level."
   ]
  },
  {
   "cell_type": "markdown",
   "id": "e811280d",
   "metadata": {},
   "source": [
    "However, this does not satisfy our need. For item2, we want the pay_rate to become 0.7 rather than 0.8. The way to fix this is to let the `apply_discount` method to access the pay_rate at the instance level, rather than the class level (_i.e. Item is the class level, and self is the instance level_)"
   ]
  },
  {
   "cell_type": "code",
   "execution_count": 2,
   "id": "69a8cd5d",
   "metadata": {},
   "outputs": [
    {
     "name": "stdout",
     "output_type": "stream",
     "text": [
      "the price of item1 after 0.2 discount is 80.0\n",
      "the price of item2 after 0.3 discount is 700.0\n"
     ]
    }
   ],
   "source": [
    "class Item:\n",
    "    pay_rate = 0.8\n",
    "    def __init__(self, name: str, price: float, quantity = 0):\n",
    "        assert price >= 0, f\"Price {price} is not non-negative\"\n",
    "        assert quantity >= 0, f\"Quantity {quantity} is not non-negative\"\n",
    "        \n",
    "        self.name = name\n",
    "        self.price = price\n",
    "        self.quantity = quantity\n",
    "        \n",
    "    def calculate_total_price(self, x, y):\n",
    "        return x*y\n",
    "    \n",
    "    def apply_discount(self):\n",
    "        # need to access pay_rate at class level\n",
    "        self.price = self.price * self.pay_rate\n",
    "\n",
    "item1 = Item(\"Phone\", 100, 1)\n",
    "item1.apply_discount()\n",
    "print(f\"the price of item1 after 0.2 discount is {item1.price}\")\n",
    "\n",
    "# override the pay_rate for specific instances\n",
    "item2 = Item(\"Laptop\", 1000, 3)\n",
    "# does not need to look for pay_rate at class level\n",
    "# because the pay_rate is already defined at the instance level of item2\n",
    "item2.pay_rate = 0.7\n",
    "item2.apply_discount()\n",
    "print(f\"the price of item2 after 0.3 discount is {item2.price}\")"
   ]
  },
  {
   "cell_type": "markdown",
   "id": "f8ab59d0",
   "metadata": {},
   "source": [
    "### Checking Inventory\n",
    "If there are numerous items within the Item class, then it will be convenient to directly have an overview of the number of items we have. For example, if we have instantiated the following five items, we can create an _all_ class attribute to keep track of all instances.\n",
    "\n",
    "Note that when we try to print out all the items after instantiation, the instances are represented in series of very complex codes. Thus, to prettify the representation of instances (_i.e. class objects_), we can further define a `__repr__` method to format the representation of the class objects."
   ]
  },
  {
   "cell_type": "code",
   "execution_count": 12,
   "id": "8c728b28",
   "metadata": {},
   "outputs": [
    {
     "name": "stdout",
     "output_type": "stream",
     "text": [
      "Phone\n",
      "Laptop\n",
      "Cable\n",
      "Mouse\n",
      "Keyboard\n",
      "\n",
      "Item('Phone', 100, 1)\n",
      "Item('Laptop', 1000, 3)\n",
      "Item('Cable', 10, 5)\n",
      "Item('Mouse', 50, 5)\n",
      "Item('Keyboard', 75, 5)\n"
     ]
    }
   ],
   "source": [
    "class Item:\n",
    "    pay_rate = 0.8\n",
    "    # all class attribute to keep track of instances\n",
    "    all = []\n",
    "    def __init__(self, name: str, price: float, quantity = 0):\n",
    "        # validate the input arguments\n",
    "        assert price >= 0, f\"Price {price} is not non-negative\"\n",
    "        assert quantity >= 0, f\"Quantity {quantity} is not non-negative\"\n",
    "        \n",
    "        # assign arguments to self object\n",
    "        self.name = name\n",
    "        self.price = price\n",
    "        self.quantity = quantity\n",
    "        \n",
    "        # keep track of all instantiated instances\n",
    "        Item.all.append(self)\n",
    "        \n",
    "    def calculate_total_price(self, x, y):\n",
    "        return x*y\n",
    "    \n",
    "    def apply_discount(self):\n",
    "        # can access pay_rate at class or class object level\n",
    "        self.price = self.price * self.pay_rate\n",
    "        \n",
    "    # repr magic method\n",
    "    # format the representation of class objects/instance\n",
    "    def __repr__(self):\n",
    "        return f\"Item('{self.name}', {self.price}, {self.quantity})\"\n",
    "\n",
    "item1 = Item(\"Phone\", 100, 1)\n",
    "item2 = Item(\"Laptop\", 1000, 3)\n",
    "item3 = Item(\"Cable\", 10, 5)\n",
    "item4 = Item(\"Mouse\", 50, 5)\n",
    "item5 = Item(\"Keyboard\", 75, 5)\n",
    "for instance in Item.all:\n",
    "    print(instance.name)\n",
    "\n",
    "print()\n",
    "# prettified class object representations\n",
    "for instance in Item.all:\n",
    "    print(instance)"
   ]
  },
  {
   "cell_type": "markdown",
   "id": "81c2b9ca",
   "metadata": {},
   "source": [
    "## Class Method\n",
    "The class method can only be accessed at the class level. The **class method cannot be accessed by instances**."
   ]
  },
  {
   "cell_type": "code",
   "execution_count": 23,
   "id": "c326e0d9",
   "metadata": {},
   "outputs": [
    {
     "name": "stdout",
     "output_type": "stream",
     "text": [
      "[Item('Phone', 100.0, 1), Item('Laptop', 1000.0, 3), Item('Cable', 10.0, 5), Item('Mouse', 50.0, 5), Item('Keyboard', 74.5, 5)]\n"
     ]
    }
   ],
   "source": [
    "import csv\n",
    "\n",
    "class Item:\n",
    "    pay_rate = 0.8\n",
    "    all = []\n",
    "    def __init__(self, name: str, price: float, quantity = 0):\n",
    "        assert price >= 0, f\"Price {price} is not non-negative\"\n",
    "        assert quantity >= 0, f\"Quantity {quantity} is not non-negative\"\n",
    "        \n",
    "        self.name = name\n",
    "        self.price = price\n",
    "        self.quantity = quantity\n",
    "        \n",
    "        Item.all.append(self)\n",
    "        \n",
    "    def calculate_total_price(self, x, y):\n",
    "        return x*y\n",
    "    \n",
    "    def apply_discount(self):\n",
    "        self.price = self.price * self.pay_rate\n",
    "        \n",
    "    # need to have a decorator\n",
    "    # decorator is just specifying there is a special method\n",
    "    @classmethod\n",
    "    # the first argument is cls, comparing with the self arguments\n",
    "    # this is due to classmethod pass in the class itself, not the class object\n",
    "    def instantiate_from_csv(cls):\n",
    "        with open('items.csv', 'r') as f:\n",
    "            reader = csv.DictReader(f)\n",
    "            items = list(reader)\n",
    "        \n",
    "        for item in items:\n",
    "            Item(\n",
    "                name = item.get(\"name\"),\n",
    "                # price and quantity are passed in as strings\n",
    "                price = float(item.get(\"price\")),\n",
    "                quantity = int(item.get(\"quantity\"))\n",
    "            )\n",
    "        \n",
    "    def __repr__(self):\n",
    "        return f\"Item('{self.name}', {self.price}, {self.quantity})\"\n",
    "    \n",
    "Item.instantiate_from_csv()\n",
    "print(Item.all)"
   ]
  },
  {
   "cell_type": "markdown",
   "id": "2636bea0",
   "metadata": {},
   "source": [
    "## Static Method\n",
    "Assist for logical operations of the class"
   ]
  },
  {
   "cell_type": "code",
   "execution_count": 27,
   "id": "f3e1ef59",
   "metadata": {},
   "outputs": [
    {
     "name": "stdout",
     "output_type": "stream",
     "text": [
      "True\n"
     ]
    }
   ],
   "source": [
    "import csv\n",
    "\n",
    "class Item:\n",
    "    pay_rate = 0.8\n",
    "    all = []\n",
    "    def __init__(self, name: str, price: float, quantity = 0):\n",
    "        assert price >= 0, f\"Price {price} is not non-negative\"\n",
    "        assert quantity >= 0, f\"Quantity {quantity} is not non-negative\"\n",
    "        \n",
    "        self.name = name\n",
    "        self.price = price\n",
    "        self.quantity = quantity\n",
    "        \n",
    "        Item.all.append(self)\n",
    "        \n",
    "    def calculate_total_price(self, x, y):\n",
    "        return x*y\n",
    "    \n",
    "    def apply_discount(self):\n",
    "        self.price = self.price * self.pay_rate\n",
    "        \n",
    "    @classmethod\n",
    "    def instantiate_from_csv(cls):\n",
    "        with open('items.csv', 'r') as f:\n",
    "            reader = csv.DictReader(f)\n",
    "            items = list(reader)\n",
    "        \n",
    "        for item in items:\n",
    "            Item(\n",
    "                name = item.get(\"name\"),\n",
    "                # price and quantity are passed in as strings\n",
    "                price = float(item.get(\"price\")),\n",
    "                quantity = int(item.get(\"quantity\"))\n",
    "            )\n",
    "    \n",
    "    @staticmethod\n",
    "    # static method does not take in class or instance as first arg\n",
    "    # similar to a normal function defined in python\n",
    "    def is_integer(num):\n",
    "        if isinstance(num, float):\n",
    "            return num.is_integer()\n",
    "        elif isinstance(num, int):\n",
    "            return True\n",
    "        else:\n",
    "            return False\n",
    "        \n",
    "    def __repr__(self):\n",
    "        return f\"Item('{self.name}', {self.price}, {self.quantity})\"\n",
    "    \n",
    "print(Item.is_integer(7.0))"
   ]
  },
  {
   "cell_type": "markdown",
   "id": "6b0bada4",
   "metadata": {},
   "source": [
    "## Static vs. Class Method\n",
    "* Static method: we can use static method when it has something to do with the class, but not necessarily to be unique to instances\n",
    "* Class method:"
   ]
  },
  {
   "cell_type": "code",
   "execution_count": null,
   "id": "272b726b",
   "metadata": {},
   "outputs": [],
   "source": []
  },
  {
   "cell_type": "code",
   "execution_count": null,
   "id": "d4cdb3a1",
   "metadata": {},
   "outputs": [],
   "source": []
  },
  {
   "cell_type": "code",
   "execution_count": null,
   "id": "77e1b890",
   "metadata": {},
   "outputs": [],
   "source": []
  },
  {
   "cell_type": "code",
   "execution_count": null,
   "id": "a6ada88f",
   "metadata": {},
   "outputs": [],
   "source": []
  },
  {
   "cell_type": "code",
   "execution_count": null,
   "id": "8d597469",
   "metadata": {},
   "outputs": [],
   "source": []
  },
  {
   "cell_type": "code",
   "execution_count": null,
   "id": "4aec5a57",
   "metadata": {},
   "outputs": [],
   "source": []
  },
  {
   "cell_type": "code",
   "execution_count": null,
   "id": "e79d9a70",
   "metadata": {},
   "outputs": [],
   "source": []
  }
 ],
 "metadata": {
  "kernelspec": {
   "display_name": "Python 3",
   "language": "python",
   "name": "python3"
  },
  "language_info": {
   "codemirror_mode": {
    "name": "ipython",
    "version": 3
   },
   "file_extension": ".py",
   "mimetype": "text/x-python",
   "name": "python",
   "nbconvert_exporter": "python",
   "pygments_lexer": "ipython3",
   "version": "3.8.8"
  }
 },
 "nbformat": 4,
 "nbformat_minor": 5
}
